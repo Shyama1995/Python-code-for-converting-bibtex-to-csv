{
 "cells": [
  {
   "cell_type": "code",
   "execution_count": null,
   "id": "50ea9946-3a21-4059-bc11-5a50f29d8b7b",
   "metadata": {},
   "outputs": [],
   "source": [
    "import bibtexparser\n",
    "import csv\n",
    "\n",
    "def bibtex_to_csv(bibtex_file, csv_file):\n",
    "    with open(bibtex_file, 'r', encoding='utf-8') as bibtex:\n",
    "        db = bibtexparser.load(bibtex)\n",
    "\n",
    "    with open(csv_file, 'w', newline='', encoding='utf-8') as csvfile:\n",
    "        writer = csv.writer(csvfile)\n",
    "\n",
    "        # Write header row\n",
    "        header = ['ID'] + list(db.entries[0].keys())\n",
    "        writer.writerow(header)\n",
    "\n",
    "        # Write data rows\n",
    "        for i, entry in enumerate(db.entries):\n",
    "            if i % 100 == 0:  # Print progress every 100 entries\n",
    "                print(f'Processing entry {i} of {len(db.entries)}')\n",
    "            row = [entry['ID']] + [entry.get(field, '') for field in header[1:]]\n",
    "            writer.writerow(row)\n",
    "\n",
    "    print('Conversion complete!')\n",
    "\n",
    "if __name__ == \"__main__\":\n",
    "    bibtex_file = 'your_file_name.bib'\n",
    "    csv_file = 'output_csv_file.csv'\n",
    "    bibtex_to_csv(bibtex_file, csv_file)\n"
   ]
  },
  {
   "cell_type": "code",
   "execution_count": null,
   "id": "66330ed5-987e-4b8c-9089-0c533ab9108b",
   "metadata": {},
   "outputs": [],
   "source": [
    "#filtering desired columns and rows\n",
    "import pandas as pd\n",
    "\n",
    "# Load the CSV file\n",
    "csv_file = 'output_csv_file.csv'  \n",
    "df = pd.read_csv(csv_file)\n",
    "\n",
    "# Select relevant columns\n",
    "df_filtered = df[['url', 'publisher', 'year', 'title', 'ID']]\n",
    "\n",
    "# Filter rows where the title contains keywords related to your PhD topic\n",
    "phd_keywords = ['keyword1', 'keyword2']  # Add relevant keywords\n",
    "df_filtered = df_filtered[df_filtered['title'].str.contains('|'.join(phd_keywords), case=False, na=False)]\n",
    "\n",
    "# Save the filtered data to a new CSV file\n",
    "output_file = 'filtered_papers.csv'\n",
    "df_filtered.to_csv(output_file, index=False)\n",
    "\n",
    "print(f'Filtered data saved to {output_file}')"
   ]
  }
 ],
 "metadata": {
  "kernelspec": {
   "display_name": "Python 3 (ipykernel)",
   "language": "python",
   "name": "python3"
  },
  "language_info": {
   "codemirror_mode": {
    "name": "ipython",
    "version": 3
   },
   "file_extension": ".py",
   "mimetype": "text/x-python",
   "name": "python",
   "nbconvert_exporter": "python",
   "pygments_lexer": "ipython3",
   "version": "3.11.7"
  }
 },
 "nbformat": 4,
 "nbformat_minor": 5
}
